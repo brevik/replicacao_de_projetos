{
 "cells": [
  {
   "cell_type": "markdown",
   "metadata": {},
   "source": [
    "# Python e Arquivos de texto (.txt)\n",
    "\n",
    "- Use sempre a estrutura With (O uso do with gerencia melhor o fechamento do arquivo)\n",
    "## Resumo:\n",
    "- Ler arquivo em única linha e em listas\n",
    "- Escrever e adicinar em aquivo 'w', 'a'\n",
    "- Fazer busca de ocorrências em arquivo\n",
    "- Formatar texto (caixa alta, remover espaço esquerda/direita)"
   ]
  },
  {
   "cell_type": "markdown",
   "metadata": {},
   "source": [
    "##### \"r\" -> read -> ler"
   ]
  },
  {
   "cell_type": "code",
   "execution_count": 7,
   "metadata": {},
   "outputs": [],
   "source": [
    "#função para ler arquivo\n",
    "def lerArquivoUnicaLinha(nomeArquivo):\n",
    "    #Estrutura para ler arquivo em linha única read()\n",
    "    with open(nomeArquivo, \"r\", encoding=\"utf-8\") as arquivo:\n",
    "        email = arquivo.read()\n",
    "\n",
    "    return email"
   ]
  },
  {
   "cell_type": "code",
   "execution_count": 6,
   "metadata": {},
   "outputs": [],
   "source": [
    "def lerArquivoMaisDeUmaLinha(nomeArquivo):\n",
    "    #Estrutura para ler arquivo de mais de uma linha readline() lista onde cada linha é um item\n",
    "    with open(nomeArquivo, \"r\", encoding=\"utf-8\") as arquivo:\n",
    "        msg = arquivo.readlines()\n",
    "        \n",
    "    return msg\n"
   ]
  },
  {
   "cell_type": "code",
   "execution_count": 4,
   "metadata": {},
   "outputs": [],
   "source": [
    "#função para encontrar ocorrências de texto nas linhas do arquivo\n",
    "def encontrarOcorrenciaLinha(texto, nomeArquivo):\n",
    "    #lendo o arquivo\n",
    "    msg = lerArquivoMaisDeUmaLinha(nomeArquivo)\n",
    "    #encontrando orcorrência em linhas\n",
    "    for linha in msg:\n",
    "        if texto in linha:\n",
    "            return linha"
   ]
  },
  {
   "cell_type": "markdown",
   "metadata": {},
   "source": [
    "- \"w\" -> write -> escrever"
   ]
  },
  {
   "cell_type": "code",
   "execution_count": 15,
   "metadata": {},
   "outputs": [],
   "source": [
    "def escreverArquivo(texto, nomeArquivo):\n",
    "    #substitui por completo o texto do arquivo ou cria um novo escrevendo o conteúdo caso este não exista\n",
    "    with open(nomeArquivo, \"w\") as arquivo:\n",
    "        arquivo.write(texto)\n",
    "\n"
   ]
  },
  {
   "cell_type": "markdown",
   "metadata": {},
   "source": [
    "- \"a\" -> append -> adicionar"
   ]
  },
  {
   "cell_type": "code",
   "execution_count": 20,
   "metadata": {},
   "outputs": [],
   "source": [
    "# Adicionar texto em arquivo\n",
    "def adicionarTexto(texto, nomeArquivo):\n",
    "    with open(nomeArquivo, \"a\") as arquivo:\n",
    "        arquivo.write(f\"\\n{texto}\")\n",
    "\n",
    "        "
   ]
  },
  {
   "cell_type": "code",
   "execution_count": 11,
   "metadata": {},
   "outputs": [],
   "source": [
    "#formatar texto. Colocar em caixa alta e eliminar espaços à esquerda/direita\n",
    "def formatarTexto(texto):\n",
    "    texto = texto.upper()\n",
    "    texto = texto.strip() #pode eliminar caracteres passados como parâmetro\n",
    "    return texto"
   ]
  },
  {
   "cell_type": "markdown",
   "metadata": {},
   "source": [
    "### - testar  funções"
   ]
  },
  {
   "cell_type": "code",
   "execution_count": 21,
   "metadata": {},
   "outputs": [
    {
     "name": "stdout",
     "output_type": "stream",
     "text": [
      "['brevik_3@yahoo.com.br\\n', 'bkrafael.c@gmail.com']\n",
      "BREVIK_3@YAHOO.COM.BR\n"
     ]
    }
   ],
   "source": [
    "#texto = lerArquivoUnicaLinha(\"mensagem.txt\")\n",
    "\n",
    "#texto = encontrarOcorrenciaLinha(\"faturamento\", \"mensagem.txt\")\n",
    "\n",
    "#escreverArquivo(\"brevik_3@yahoo.com.br\", \"email.txt\")\n",
    "\n",
    "adicionarTexto(\"bkrafael.c@gmail.com\", \"email.txt\")\n",
    "texto = lerArquivoMaisDeUmaLinha(\"email.txt\")\n",
    "\n",
    "print(texto)\n",
    "texto = formatarTexto(texto[0])\n",
    "print(texto)"
   ]
  }
 ],
 "metadata": {
  "kernelspec": {
   "display_name": "Python 3",
   "language": "python",
   "name": "python3"
  },
  "language_info": {
   "codemirror_mode": {
    "name": "ipython",
    "version": 3
   },
   "file_extension": ".py",
   "mimetype": "text/x-python",
   "name": "python",
   "nbconvert_exporter": "python",
   "pygments_lexer": "ipython3",
   "version": "3.8.5"
  }
 },
 "nbformat": 4,
 "nbformat_minor": 5
}
