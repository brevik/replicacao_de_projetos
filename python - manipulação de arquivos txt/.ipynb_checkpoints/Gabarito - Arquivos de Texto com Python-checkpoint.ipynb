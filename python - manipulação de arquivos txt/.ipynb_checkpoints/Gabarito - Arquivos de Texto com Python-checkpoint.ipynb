{
 "cells": [
  {
   "cell_type": "markdown",
   "metadata": {},
   "source": [
    "# Python e Arquivos de texto (.txt)\n",
    "\n",
    "- Use sempre o método With"
   ]
  },
  {
   "cell_type": "markdown",
   "metadata": {},
   "source": [
    "### Formas de abrir um arquivo de texto"
   ]
  },
  {
   "cell_type": "markdown",
   "metadata": {},
   "source": [
    "- \"r\" -> read -> ler"
   ]
  },
  {
   "cell_type": "code",
   "execution_count": 2,
   "metadata": {},
   "outputs": [
    {
     "name": "stdout",
     "output_type": "stream",
     "text": [
      "pythonimpressionador@gmail.com\n",
      "123456\n",
      "O faturamento desse mês foi de: R$15.000\n",
      "\n"
     ]
    }
   ],
   "source": [
    "# read -> para arquivos simples (ex: senhas, tokens, informações únicas)\n",
    "with open(\"email.txt\", \"r\") as arquivo:\n",
    "    email = arquivo.read()\n",
    "print(email)\n",
    "\n",
    "with open(\"senha.txt\", \"r\") as arquivo:\n",
    "    senha = arquivo.read()\n",
    "print(senha)\n",
    "\n",
    "# read lines -> para arquivos maiores\n",
    "with open(\"mensagem.txt\", \"r\", encoding=\"utf-8\") as arquivo:\n",
    "    texto = arquivo.readlines()\n",
    "\n",
    "for frase in texto:\n",
    "    if \"faturamento\" in frase:\n",
    "        print(frase)"
   ]
  },
  {
   "cell_type": "markdown",
   "metadata": {},
   "source": [
    "- \"w\" -> write -> escrever"
   ]
  },
  {
   "cell_type": "code",
   "execution_count": 15,
   "metadata": {},
   "outputs": [],
   "source": [
    "# substitui por completo o texto que está escrito\n",
    "with open(\"email.txt\", \"w\") as arquivo:\n",
    "    arquivo.write(\"pythonimpressionador2@gmail.com\")"
   ]
  },
  {
   "cell_type": "markdown",
   "metadata": {},
   "source": [
    "- \"a\" -> append -> adicionar"
   ]
  },
  {
   "cell_type": "code",
   "execution_count": 18,
   "metadata": {},
   "outputs": [],
   "source": [
    "# adiciona uma informação ao texto original\n",
    "with open(\"email.txt\", \"a\") as arquivo:\n",
    "    arquivo.write(\"\\npythonimpressionador2@gmail.com\")"
   ]
  }
 ],
 "metadata": {
  "kernelspec": {
   "display_name": "Python 3",
   "language": "python",
   "name": "python3"
  },
  "language_info": {
   "codemirror_mode": {
    "name": "ipython",
    "version": 3
   },
   "file_extension": ".py",
   "mimetype": "text/x-python",
   "name": "python",
   "nbconvert_exporter": "python",
   "pygments_lexer": "ipython3",
   "version": "3.8.5"
  }
 },
 "nbformat": 4,
 "nbformat_minor": 5
}
